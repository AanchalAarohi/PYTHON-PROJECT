{
 "cells": [
  {
   "cell_type": "code",
   "execution_count": 1,
   "id": "7675697c",
   "metadata": {},
   "outputs": [],
   "source": [
    "# python library\n",
    "import turtle"
   ]
  },
  {
   "cell_type": "code",
   "execution_count": 2,
   "id": "d38e0e88",
   "metadata": {},
   "outputs": [],
   "source": [
    "t=turtle.Turtle()\n",
    "s=turtle.Turtle()\n",
    "turtle.bgcolor('green')"
   ]
  },
  {
   "cell_type": "code",
   "execution_count": 3,
   "id": "e1eb8349",
   "metadata": {},
   "outputs": [],
   "source": [
    "t.hideturtle()\n",
    "t.goto(0,-10)"
   ]
  },
  {
   "cell_type": "code",
   "execution_count": 4,
   "id": "d55a39b1",
   "metadata": {},
   "outputs": [],
   "source": [
    "\n",
    "\n",
    "t.pensize(3)\n",
    "t.color('red')\n",
    "t.begin_fill()\n",
    "t.left(140)\n",
    "t.forward(180)\n",
    "t.circle(-90,200)\n",
    "t.setheading(60)\n",
    "t.circle(-90,200)\n",
    "t.forward(178)\n",
    "t.end_fill()\n",
    "\n"
   ]
  },
  {
   "cell_type": "code",
   "execution_count": null,
   "id": "0516b891",
   "metadata": {},
   "outputs": [],
   "source": [
    "t.penup()\n",
    "t.goto(-130,130)\n",
    "t.pendown()\n",
    "t.color('white')\n",
    "t.write(\"helo brother\",font=(\"verdana\",25,\"bold\"))\n",
    "turtle.done()"
   ]
  }
 ],
 "metadata": {
  "kernelspec": {
   "display_name": "Python 3 (ipykernel)",
   "language": "python",
   "name": "python3"
  },
  "language_info": {
   "codemirror_mode": {
    "name": "ipython",
    "version": 3
   },
   "file_extension": ".py",
   "mimetype": "text/x-python",
   "name": "python",
   "nbconvert_exporter": "python",
   "pygments_lexer": "ipython3",
   "version": "3.10.9"
  }
 },
 "nbformat": 4,
 "nbformat_minor": 5
}
